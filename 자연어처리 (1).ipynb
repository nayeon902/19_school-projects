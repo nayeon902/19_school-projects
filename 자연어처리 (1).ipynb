{
  "nbformat": 4,
  "nbformat_minor": 0,
  "metadata": {
    "colab": {
      "provenance": [],
      "collapsed_sections": []
    },
    "kernelspec": {
      "name": "python3",
      "display_name": "Python 3"
    },
    "language_info": {
      "name": "python"
    }
  },
  "cells": [
    {
      "cell_type": "code",
      "source": [
        "#https://datascienceschool.net/03%20machine%20learning/03.01.01%20NLTK%20%EC%9E%90%EC%97%B0%EC%96%B4%20%EC%B2%98%EB%A6%AC%20%ED%8C%A8%ED%82%A4%EC%A7%80.html\n",
        "#위에 사이트에 설명 친절하게 되어있으니 참고하세요!, 그리고 #은 설명넣을때 쓰는거라 코드에 아무 영향 없음(지워도됨)"
      ],
      "metadata": {
        "id": "oOuMZkP1HK9Z"
      },
      "execution_count": null,
      "outputs": []
    },
    {
      "cell_type": "code",
      "execution_count": 1,
      "metadata": {
        "colab": {
          "base_uri": "https://localhost:8080/"
        },
        "id": "wmjiqQIr65qt",
        "outputId": "cc415cd7-9429-4c57-bfc7-4c937cbff2a0"
      },
      "outputs": [
        {
          "output_type": "stream",
          "name": "stdout",
          "text": [
            "Looking in indexes: https://pypi.org/simple, https://us-python.pkg.dev/colab-wheels/public/simple/\n",
            "Requirement already satisfied: nltk in /usr/local/lib/python3.7/dist-packages (3.7)\n",
            "Requirement already satisfied: regex>=2021.8.3 in /usr/local/lib/python3.7/dist-packages (from nltk) (2022.6.2)\n",
            "Requirement already satisfied: click in /usr/local/lib/python3.7/dist-packages (from nltk) (7.1.2)\n",
            "Requirement already satisfied: tqdm in /usr/local/lib/python3.7/dist-packages (from nltk) (4.64.1)\n",
            "Requirement already satisfied: joblib in /usr/local/lib/python3.7/dist-packages (from nltk) (1.2.0)\n"
          ]
        }
      ],
      "source": [
        "!pip install nltk\n",
        "#nltk 다운로드"
      ]
    },
    {
      "cell_type": "code",
      "source": [
        "import nltk #nltk를 사용한다고 먼저 선언\n",
        "nltk.download('punkt') #nltk안에서 punkt 모듈을 사용할것이므로 다운, pukt는 문장 구조를 학습한 일종의 모델로 어떤 것이 약어에 쓰이는지 (예를 들어 Ph.D.) 어떤 것이 마침표인지 학습이 되어있음. 문장은 기본적으로 마침표를 기준으로 나누고 약어는 학습된 대로 한 단어로 취급함.\n"
      ],
      "metadata": {
        "colab": {
          "base_uri": "https://localhost:8080/"
        },
        "id": "rSGGPWb27CYM",
        "outputId": "1431e5f5-18d2-45be-da99-7d8d0c89eef1"
      },
      "execution_count": 31,
      "outputs": [
        {
          "output_type": "stream",
          "name": "stderr",
          "text": [
            "[nltk_data] Downloading package punkt to /root/nltk_data...\n",
            "[nltk_data]   Package punkt is already up-to-date!\n"
          ]
        },
        {
          "output_type": "execute_result",
          "data": {
            "text/plain": [
              "True"
            ]
          },
          "metadata": {},
          "execution_count": 31
        }
      ]
    },
    {
      "cell_type": "code",
      "source": [
        "#토큰이란 문법적으로 더 이상 나눌 수 없는 언어요소. 텍스트 토큰화란 말뭉치로부터 토큰을 분리하는 작업\n",
        "sentence=\"Learning Python is very exciting and fun. Enjoy Python!\"#sentence라는 객체를 만들고 문장을 입력, 이 문장이 말뭉치(Corpus)에 해당함\n",
        "tokens=nltk.word_tokenize(sentence) #tekens 객체를 만든 후에 말뭉치에서 각각의 토큰들을 분리하여 저장 \n",
        "tokens #객체를 출력, 출력하면 각 토큰들이 배열로 저장된 것을 확인할 수 있음."
      ],
      "metadata": {
        "colab": {
          "base_uri": "https://localhost:8080/"
        },
        "id": "OsTwEbft7SH-",
        "outputId": "a9ec4e84-0201-4eb6-a293-f23201e4efa3"
      },
      "execution_count": 32,
      "outputs": [
        {
          "output_type": "execute_result",
          "data": {
            "text/plain": [
              "['Learning',\n",
              " 'Python',\n",
              " 'is',\n",
              " 'very',\n",
              " 'exciting',\n",
              " 'and',\n",
              " 'fun',\n",
              " '.',\n",
              " 'Enjoy',\n",
              " 'Python',\n",
              " '!']"
            ]
          },
          "metadata": {},
          "execution_count": 32
        }
      ]
    },
    {
      "cell_type": "code",
      "source": [
        "#추가로 품사 태깅--> 태깅: 콜렉션의 각 단어에 품사를 붙이는 절차, 품사에 따라 발음 시 강세가 달라지므로 품사를 알아내서 정확한 단어의 의미를 얻는작업"
      ],
      "metadata": {
        "id": "ISvVF7HXHgxn"
      },
      "execution_count": null,
      "outputs": []
    },
    {
      "cell_type": "code",
      "source": [
        "text=nltk.Text(nltk.word_tokenize(sentence)) #데이터전처리의 일종, 위 문자열을 단어단위로 토큰화해서 다시 객체에 저장함\n",
        "text #객체를 출력"
      ],
      "metadata": {
        "colab": {
          "base_uri": "https://localhost:8080/"
        },
        "id": "mRamuCvy7k--",
        "outputId": "27ab396f-bbb8-456f-d9e5-857d5084090a"
      },
      "execution_count": 5,
      "outputs": [
        {
          "output_type": "execute_result",
          "data": {
            "text/plain": [
              "<Text: Learning Python is very exciting and fun ....>"
            ]
          },
          "metadata": {},
          "execution_count": 5
        }
      ]
    },
    {
      "cell_type": "code",
      "source": [
        "help(text) #설명서 text,common_contexts, concordance, similar부분정도 보면 도움될듯. "
      ],
      "metadata": {
        "colab": {
          "base_uri": "https://localhost:8080/"
        },
        "id": "burwA92VD_cy",
        "outputId": "4ef67261-43ed-4c00-e6fc-7d5ab95a5ff6"
      },
      "execution_count": 34,
      "outputs": [
        {
          "output_type": "stream",
          "name": "stdout",
          "text": [
            "Help on Text in module nltk.text object:\n",
            "\n",
            "class Text(builtins.object)\n",
            " |  Text(tokens, name=None)\n",
            " |  \n",
            " |  A wrapper around a sequence of simple (string) tokens, which is\n",
            " |  intended to support initial exploration of texts (via the\n",
            " |  interactive console).  Its methods perform a variety of analyses\n",
            " |  on the text's contexts (e.g., counting, concordancing, collocation\n",
            " |  discovery), and display the results.  If you wish to write a\n",
            " |  program which makes use of these analyses, then you should bypass\n",
            " |  the ``Text`` class, and use the appropriate analysis function or\n",
            " |  class directly instead.\n",
            " |  \n",
            " |  A ``Text`` is typically initialized from a given document or\n",
            " |  corpus.  E.g.:\n",
            " |  \n",
            " |  >>> import nltk.corpus\n",
            " |  >>> from nltk.text import Text\n",
            " |  >>> moby = Text(nltk.corpus.gutenberg.words('melville-moby_dick.txt'))\n",
            " |  \n",
            " |  Methods defined here:\n",
            " |  \n",
            " |  __getitem__(self, i)\n",
            " |  \n",
            " |  __init__(self, tokens, name=None)\n",
            " |      Create a Text object.\n",
            " |      \n",
            " |      :param tokens: The source text.\n",
            " |      :type tokens: sequence of str\n",
            " |  \n",
            " |  __len__(self)\n",
            " |  \n",
            " |  __repr__(self)\n",
            " |      Return repr(self).\n",
            " |  \n",
            " |  __str__(self)\n",
            " |      Return str(self).\n",
            " |  \n",
            " |  collocation_list(self, num=20, window_size=2)\n",
            " |      Return collocations derived from the text, ignoring stopwords.\n",
            " |      \n",
            " |          >>> from nltk.book import text4\n",
            " |          >>> text4.collocation_list()[:2]\n",
            " |          [('United', 'States'), ('fellow', 'citizens')]\n",
            " |      \n",
            " |      :param num: The maximum number of collocations to return.\n",
            " |      :type num: int\n",
            " |      :param window_size: The number of tokens spanned by a collocation (default=2)\n",
            " |      :type window_size: int\n",
            " |      :rtype: list(tuple(str, str))\n",
            " |  \n",
            " |  collocations(self, num=20, window_size=2)\n",
            " |      Print collocations derived from the text, ignoring stopwords.\n",
            " |      \n",
            " |          >>> from nltk.book import text4\n",
            " |          >>> text4.collocations() # doctest: +ELLIPSIS\n",
            " |          United States; fellow citizens; four years; ...\n",
            " |      \n",
            " |      :param num: The maximum number of collocations to print.\n",
            " |      :type num: int\n",
            " |      :param window_size: The number of tokens spanned by a collocation (default=2)\n",
            " |      :type window_size: int\n",
            " |  \n",
            " |  common_contexts(self, words, num=20)\n",
            " |      Find contexts where the specified words appear; list\n",
            " |      most frequent common contexts first.\n",
            " |      \n",
            " |      :param words: The words used to seed the similarity search\n",
            " |      :type words: str\n",
            " |      :param num: The number of words to generate (default=20)\n",
            " |      :type num: int\n",
            " |      :seealso: ContextIndex.common_contexts()\n",
            " |  \n",
            " |  concordance(self, word, width=79, lines=25)\n",
            " |      Prints a concordance for ``word`` with the specified context window.\n",
            " |      Word matching is not case-sensitive.\n",
            " |      \n",
            " |      :param word: The target word or phrase (a list of strings)\n",
            " |      :type word: str or list\n",
            " |      :param width: The width of each line, in characters (default=80)\n",
            " |      :type width: int\n",
            " |      :param lines: The number of lines to display (default=25)\n",
            " |      :type lines: int\n",
            " |      \n",
            " |      :seealso: ``ConcordanceIndex``\n",
            " |  \n",
            " |  concordance_list(self, word, width=79, lines=25)\n",
            " |      Generate a concordance for ``word`` with the specified context window.\n",
            " |      Word matching is not case-sensitive.\n",
            " |      \n",
            " |      :param word: The target word or phrase (a list of strings)\n",
            " |      :type word: str or list\n",
            " |      :param width: The width of each line, in characters (default=80)\n",
            " |      :type width: int\n",
            " |      :param lines: The number of lines to display (default=25)\n",
            " |      :type lines: int\n",
            " |      \n",
            " |      :seealso: ``ConcordanceIndex``\n",
            " |  \n",
            " |  count(self, word)\n",
            " |      Count the number of times this word appears in the text.\n",
            " |  \n",
            " |  dispersion_plot(self, words)\n",
            " |      Produce a plot showing the distribution of the words through the text.\n",
            " |      Requires pylab to be installed.\n",
            " |      \n",
            " |      :param words: The words to be plotted\n",
            " |      :type words: list(str)\n",
            " |      :seealso: nltk.draw.dispersion_plot()\n",
            " |  \n",
            " |  findall(self, regexp)\n",
            " |      Find instances of the regular expression in the text.\n",
            " |      The text is a list of tokens, and a regexp pattern to match\n",
            " |      a single token must be surrounded by angle brackets.  E.g.\n",
            " |      \n",
            " |      >>> print('hack'); from nltk.book import text1, text5, text9\n",
            " |      hack...\n",
            " |      >>> text5.findall(\"<.*><.*><bro>\")\n",
            " |      you rule bro; telling you bro; u twizted bro\n",
            " |      >>> text1.findall(\"<a>(<.*>)<man>\")\n",
            " |      monied; nervous; dangerous; white; white; white; pious; queer; good;\n",
            " |      mature; white; Cape; great; wise; wise; butterless; white; fiendish;\n",
            " |      pale; furious; better; certain; complete; dismasted; younger; brave;\n",
            " |      brave; brave; brave\n",
            " |      >>> text9.findall(\"<th.*>{3,}\")\n",
            " |      thread through those; the thought that; that the thing; the thing\n",
            " |      that; that that thing; through these than through; them that the;\n",
            " |      through the thick; them that they; thought that the\n",
            " |      \n",
            " |      :param regexp: A regular expression\n",
            " |      :type regexp: str\n",
            " |  \n",
            " |  generate(self, length=100, text_seed=None, random_seed=42)\n",
            " |      Print random text, generated using a trigram language model.\n",
            " |      See also `help(nltk.lm)`.\n",
            " |      \n",
            " |      :param length: The length of text to generate (default=100)\n",
            " |      :type length: int\n",
            " |      \n",
            " |      :param text_seed: Generation can be conditioned on preceding context.\n",
            " |      :type text_seed: list(str)\n",
            " |      \n",
            " |      :param random_seed: A random seed or an instance of `random.Random`. If provided,\n",
            " |          makes the random sampling part of generation reproducible. (default=42)\n",
            " |      :type random_seed: int\n",
            " |  \n",
            " |  index(self, word)\n",
            " |      Find the index of the first occurrence of the word in the text.\n",
            " |  \n",
            " |  plot(self, *args)\n",
            " |      See documentation for FreqDist.plot()\n",
            " |      :seealso: nltk.prob.FreqDist.plot()\n",
            " |  \n",
            " |  readability(self, method)\n",
            " |  \n",
            " |  similar(self, word, num=20)\n",
            " |      Distributional similarity: find other words which appear in the\n",
            " |      same contexts as the specified word; list most similar words first.\n",
            " |      \n",
            " |      :param word: The word used to seed the similarity search\n",
            " |      :type word: str\n",
            " |      :param num: The number of words to generate (default=20)\n",
            " |      :type num: int\n",
            " |      :seealso: ContextIndex.similar_words()\n",
            " |  \n",
            " |  vocab(self)\n",
            " |      :seealso: nltk.prob.FreqDist\n",
            " |  \n",
            " |  ----------------------------------------------------------------------\n",
            " |  Data descriptors defined here:\n",
            " |  \n",
            " |  __dict__\n",
            " |      dictionary for instance variables (if defined)\n",
            " |  \n",
            " |  __weakref__\n",
            " |      list of weak references to the object (if defined)\n",
            "\n"
          ]
        }
      ]
    },
    {
      "cell_type": "code",
      "source": [
        "text.tokens #텍스트 객체 안의 토큰들을 출력"
      ],
      "metadata": {
        "colab": {
          "base_uri": "https://localhost:8080/"
        },
        "id": "MrI3Lfk87yKa",
        "outputId": "3c0df915-9398-4370-83f1-00956a2f5ce5"
      },
      "execution_count": 35,
      "outputs": [
        {
          "output_type": "execute_result",
          "data": {
            "text/plain": [
              "['Learning',\n",
              " 'Python',\n",
              " 'is',\n",
              " 'very',\n",
              " 'exciting',\n",
              " 'and',\n",
              " 'fun',\n",
              " '.',\n",
              " 'Enjoy',\n",
              " 'Python',\n",
              " '!']"
            ]
          },
          "metadata": {},
          "execution_count": 35
        }
      ]
    },
    {
      "cell_type": "code",
      "source": [
        "help(text.vocab)#직접 궁금한 기능어들 괄호안에 넣어서 그부분만 설명 볼 수도 있음."
      ],
      "metadata": {
        "colab": {
          "base_uri": "https://localhost:8080/"
        },
        "id": "ErEgorq171eH",
        "outputId": "709cafa9-5da4-41e5-b1d2-1c50561f0f65"
      },
      "execution_count": 37,
      "outputs": [
        {
          "output_type": "stream",
          "name": "stdout",
          "text": [
            "Help on method vocab in module nltk.text:\n",
            "\n",
            "vocab() method of nltk.text.Text instance\n",
            "    :seealso: nltk.prob.FreqDist\n",
            "\n"
          ]
        }
      ]
    },
    {
      "cell_type": "code",
      "source": [
        "text.vocab() #단어의 빈도수를 계산해서 표현해주는 기능"
      ],
      "metadata": {
        "colab": {
          "base_uri": "https://localhost:8080/"
        },
        "id": "NZkQh1_N79hE",
        "outputId": "ab550afc-edb6-42b8-84a9-69047dff8dc5"
      },
      "execution_count": 9,
      "outputs": [
        {
          "output_type": "execute_result",
          "data": {
            "text/plain": [
              "FreqDist({'Python': 2, 'Learning': 1, 'is': 1, 'very': 1, 'exciting': 1, 'and': 1, 'fun': 1, '.': 1, 'Enjoy': 1, '!': 1})"
            ]
          },
          "metadata": {},
          "execution_count": 9
        }
      ]
    },
    {
      "cell_type": "code",
      "source": [
        "print(text.vocab()) #총 10개의 단어가 있고 총 11번 사용됨"
      ],
      "metadata": {
        "colab": {
          "base_uri": "https://localhost:8080/"
        },
        "id": "8VFCI7XY8Cfw",
        "outputId": "ebdf1d4f-e44c-4c2f-9d2d-2779e32394c5"
      },
      "execution_count": 10,
      "outputs": [
        {
          "output_type": "stream",
          "name": "stdout",
          "text": [
            "<FreqDist with 10 samples and 11 outcomes>\n"
          ]
        }
      ]
    },
    {
      "cell_type": "code",
      "source": [
        "text.plot() #각 토큰의 사용빈도를 그래프로 표현"
      ],
      "metadata": {
        "colab": {
          "base_uri": "https://localhost:8080/",
          "height": 331
        },
        "id": "r-0cbchT8L3o",
        "outputId": "78443a5a-48be-42d1-cf23-1f449d07e464"
      },
      "execution_count": 11,
      "outputs": [
        {
          "output_type": "display_data",
          "data": {
            "text/plain": [
              "<Figure size 432x288 with 1 Axes>"
            ],
            "image/png": "[encoded data removed]"
          },
          "metadata": {
            "needs_background": "light"
          }
        },
        {
          "output_type": "execute_result",
          "data": {
            "text/plain": [
              "<matplotlib.axes._subplots.AxesSubplot at 0x7efe21d04310>"
            ]
          },
          "metadata": {},
          "execution_count": 11
        }
      ]
    },
    {
      "cell_type": "code",
      "source": [
        "import nltk\n",
        "nltk.download('book') #nlkt에 있는 예시 책들을 다운받음"
      ],
      "metadata": {
        "colab": {
          "base_uri": "https://localhost:8080/"
        },
        "id": "VgKZfVZE8dNz",
        "outputId": "b49777eb-9d57-430c-a720-e19b50c3ed6f"
      },
      "execution_count": 12,
      "outputs": [
        {
          "output_type": "stream",
          "name": "stderr",
          "text": [
            "[nltk_data] Downloading collection 'book'\n",
            "[nltk_data]    | \n",
            "[nltk_data]    | Downloading package abc to /root/nltk_data...\n",
            "[nltk_data]    |   Unzipping corpora/abc.zip.\n",
            "[nltk_data]    | Downloading package brown to /root/nltk_data...\n",
            "[nltk_data]    |   Unzipping corpora/brown.zip.\n",
            "[nltk_data]    | Downloading package chat80 to /root/nltk_data...\n",
            "[nltk_data]    |   Unzipping corpora/chat80.zip.\n",
            "[nltk_data]    | Downloading package cmudict to /root/nltk_data...\n",
            "[nltk_data]    |   Unzipping corpora/cmudict.zip.\n",
            "[nltk_data]    | Downloading package conll2000 to /root/nltk_data...\n",
            "[nltk_data]    |   Unzipping corpora/conll2000.zip.\n",
            "[nltk_data]    | Downloading package conll2002 to /root/nltk_data...\n",
            "[nltk_data]    |   Unzipping corpora/conll2002.zip.\n",
            "[nltk_data]    | Downloading package dependency_treebank to\n",
            "[nltk_data]    |     /root/nltk_data...\n",
            "[nltk_data]    |   Unzipping corpora/dependency_treebank.zip.\n",
            "[nltk_data]    | Downloading package genesis to /root/nltk_data...\n",
            "[nltk_data]    |   Unzipping corpora/genesis.zip.\n",
            "[nltk_data]    | Downloading package gutenberg to /root/nltk_data...\n",
            "[nltk_data]    |   Unzipping corpora/gutenberg.zip.\n",
            "[nltk_data]    | Downloading package ieer to /root/nltk_data...\n",
            "[nltk_data]    |   Unzipping corpora/ieer.zip.\n",
            "[nltk_data]    | Downloading package inaugural to /root/nltk_data...\n",
            "[nltk_data]    |   Unzipping corpora/inaugural.zip.\n",
            "[nltk_data]    | Downloading package movie_reviews to\n",
            "[nltk_data]    |     /root/nltk_data...\n",
            "[nltk_data]    |   Unzipping corpora/movie_reviews.zip.\n",
            "[nltk_data]    | Downloading package nps_chat to /root/nltk_data...\n",
            "[nltk_data]    |   Unzipping corpora/nps_chat.zip.\n",
            "[nltk_data]    | Downloading package names to /root/nltk_data...\n",
            "[nltk_data]    |   Unzipping corpora/names.zip.\n",
            "[nltk_data]    | Downloading package ppattach to /root/nltk_data...\n",
            "[nltk_data]    |   Unzipping corpora/ppattach.zip.\n",
            "[nltk_data]    | Downloading package reuters to /root/nltk_data...\n",
            "[nltk_data]    | Downloading package senseval to /root/nltk_data...\n",
            "[nltk_data]    |   Unzipping corpora/senseval.zip.\n",
            "[nltk_data]    | Downloading package state_union to /root/nltk_data...\n",
            "[nltk_data]    |   Unzipping corpora/state_union.zip.\n",
            "[nltk_data]    | Downloading package stopwords to /root/nltk_data...\n",
            "[nltk_data]    |   Unzipping corpora/stopwords.zip.\n",
            "[nltk_data]    | Downloading package swadesh to /root/nltk_data...\n",
            "[nltk_data]    |   Unzipping corpora/swadesh.zip.\n",
            "[nltk_data]    | Downloading package timit to /root/nltk_data...\n",
            "[nltk_data]    |   Unzipping corpora/timit.zip.\n",
            "[nltk_data]    | Downloading package treebank to /root/nltk_data...\n",
            "[nltk_data]    |   Unzipping corpora/treebank.zip.\n",
            "[nltk_data]    | Downloading package toolbox to /root/nltk_data...\n",
            "[nltk_data]    |   Unzipping corpora/toolbox.zip.\n",
            "[nltk_data]    | Downloading package udhr to /root/nltk_data...\n",
            "[nltk_data]    |   Unzipping corpora/udhr.zip.\n",
            "[nltk_data]    | Downloading package udhr2 to /root/nltk_data...\n",
            "[nltk_data]    |   Unzipping corpora/udhr2.zip.\n",
            "[nltk_data]    | Downloading package unicode_samples to\n",
            "[nltk_data]    |     /root/nltk_data...\n",
            "[nltk_data]    |   Unzipping corpora/unicode_samples.zip.\n",
            "[nltk_data]    | Downloading package webtext to /root/nltk_data...\n",
            "[nltk_data]    |   Unzipping corpora/webtext.zip.\n",
            "[nltk_data]    | Downloading package wordnet to /root/nltk_data...\n",
            "[nltk_data]    | Downloading package wordnet_ic to /root/nltk_data...\n",
            "[nltk_data]    |   Unzipping corpora/wordnet_ic.zip.\n",
            "[nltk_data]    | Downloading package words to /root/nltk_data...\n",
            "[nltk_data]    |   Unzipping corpora/words.zip.\n",
            "[nltk_data]    | Downloading package maxent_treebank_pos_tagger to\n",
            "[nltk_data]    |     /root/nltk_data...\n",
            "[nltk_data]    |   Unzipping taggers/maxent_treebank_pos_tagger.zip.\n",
            "[nltk_data]    | Downloading package maxent_ne_chunker to\n",
            "[nltk_data]    |     /root/nltk_data...\n",
            "[nltk_data]    |   Unzipping chunkers/maxent_ne_chunker.zip.\n",
            "[nltk_data]    | Downloading package universal_tagset to\n",
            "[nltk_data]    |     /root/nltk_data...\n",
            "[nltk_data]    |   Unzipping taggers/universal_tagset.zip.\n",
            "[nltk_data]    | Downloading package punkt to /root/nltk_data...\n",
            "[nltk_data]    |   Package punkt is already up-to-date!\n",
            "[nltk_data]    | Downloading package book_grammars to\n",
            "[nltk_data]    |     /root/nltk_data...\n",
            "[nltk_data]    |   Unzipping grammars/book_grammars.zip.\n",
            "[nltk_data]    | Downloading package city_database to\n",
            "[nltk_data]    |     /root/nltk_data...\n",
            "[nltk_data]    |   Unzipping corpora/city_database.zip.\n",
            "[nltk_data]    | Downloading package tagsets to /root/nltk_data...\n",
            "[nltk_data]    |   Unzipping help/tagsets.zip.\n",
            "[nltk_data]    | Downloading package panlex_swadesh to\n",
            "[nltk_data]    |     /root/nltk_data...\n",
            "[nltk_data]    | Downloading package averaged_perceptron_tagger to\n",
            "[nltk_data]    |     /root/nltk_data...\n",
            "[nltk_data]    |   Unzipping taggers/averaged_perceptron_tagger.zip.\n",
            "[nltk_data]    | \n",
            "[nltk_data]  Done downloading collection book\n"
          ]
        },
        {
          "output_type": "execute_result",
          "data": {
            "text/plain": [
              "True"
            ]
          },
          "metadata": {},
          "execution_count": 12
        }
      ]
    },
    {
      "cell_type": "code",
      "source": [
        "from nltk.book import * #모든 모듈중에 nlkt.book을 쓰겠다는 의미"
      ],
      "metadata": {
        "colab": {
          "base_uri": "https://localhost:8080/"
        },
        "id": "KXFk5xSX8qOr",
        "outputId": "f7f597c8-4992-4913-ece5-6680775ffee9"
      },
      "execution_count": 13,
      "outputs": [
        {
          "output_type": "stream",
          "name": "stdout",
          "text": [
            "*** Introductory Examples for the NLTK Book ***\n",
            "Loading text1, ..., text9 and sent1, ..., sent9\n",
            "Type the name of the text or sentence to view it.\n",
            "Type: 'texts()' or 'sents()' to list the materials.\n",
            "text1: Moby Dick by Herman Melville 1851\n",
            "text2: Sense and Sensibility by Jane Austen 1811\n",
            "text3: The Book of Genesis\n",
            "text4: Inaugural Address Corpus\n",
            "text5: Chat Corpus\n",
            "text6: Monty Python and the Holy Grail\n",
            "text7: Wall Street Journal\n",
            "text8: Personals Corpus\n",
            "text9: The Man Who Was Thursday by G . K . Chesterton 1908\n"
          ]
        }
      ]
    },
    {
      "cell_type": "code",
      "source": [
        "text1 #이 책의 내용들이 또 하나의 말뭉치가 됨.\n",
        "# 위에 책들 목록에서 text1을 꺼내옴, 1~9 아무거나 사용가능"
      ],
      "metadata": {
        "colab": {
          "base_uri": "https://localhost:8080/"
        },
        "id": "_kUa-BiZ8ydS",
        "outputId": "1b42603b-c4fa-4f89-9002-280a18585583"
      },
      "execution_count": 14,
      "outputs": [
        {
          "output_type": "execute_result",
          "data": {
            "text/plain": [
              "<Text: Moby Dick by Herman Melville 1851>"
            ]
          },
          "metadata": {},
          "execution_count": 14
        }
      ]
    },
    {
      "cell_type": "code",
      "source": [
        "#이 소설의 전체 단어 수를 적으시오.\n",
        "len(text1)"
      ],
      "metadata": {
        "colab": {
          "base_uri": "https://localhost:8080/"
        },
        "id": "CHow_gSo9CU3",
        "outputId": "35d663ee-4d41-43d2-f370-c440d8d1a987"
      },
      "execution_count": 15,
      "outputs": [
        {
          "output_type": "execute_result",
          "data": {
            "text/plain": [
              "260819"
            ]
          },
          "metadata": {},
          "execution_count": 15
        }
      ]
    },
    {
      "cell_type": "code",
      "source": [
        "str(len(text1))+\"개입니다.\" #len은 문자열 길이구하는거, str은 문자열로 전환시키는거. 문자열길이를 문자열로 표현-> 뒤에 개입니다 랑 붙여서 출력하려고 형태 동일하게 맞춘거"
      ],
      "metadata": {
        "colab": {
          "base_uri": "https://localhost:8080/",
          "height": 35
        },
        "id": "VIHH2eVK9IPp",
        "outputId": "fb60370d-a8ff-487b-df16-4125a6716a19"
      },
      "execution_count": 16,
      "outputs": [
        {
          "output_type": "execute_result",
          "data": {
            "text/plain": [
              "'260819개입니다.'"
            ],
            "application/vnd.google.colaboratory.intrinsic+json": {
              "type": "string"
            }
          },
          "metadata": {},
          "execution_count": 16
        }
      ]
    },
    {
      "cell_type": "code",
      "source": [
        "#이 소설에 나오는 단어 중 중복을 제외한 고유한 단어의 수를 적으시오.\n",
        "len(set(text1)) #set은 집합자료형, 순소가 없고 인덱스가 없는 모음, 집합자료형의 길이를 출력한 것"
      ],
      "metadata": {
        "colab": {
          "base_uri": "https://localhost:8080/"
        },
        "id": "OwMKebWk9T-Q",
        "outputId": "814f225f-30b0-4a70-d075-6a798344c56f"
      },
      "execution_count": 17,
      "outputs": [
        {
          "output_type": "execute_result",
          "data": {
            "text/plain": [
              "19317"
            ]
          },
          "metadata": {},
          "execution_count": 17
        }
      ]
    },
    {
      "cell_type": "code",
      "source": [
        "#이 책에서 고유한 단어는 보통 몇 번 정도 반복되어 나오는지 알아보자.\n",
        "len(text1)/len(set(text1)) #전체단어를 고유한 단어수로 나눔\n",
        "#텍스트를 구성하고 있는 총 단어 수와 고유한 단어 수를 비교해 보자.\n",
        "#Text객체는 텍스트 단어들로 구성된 리스트라고 생각하면 된다.\n",
        "#따라서, 파이썬 리스트와 거의 비슷하게 조작할 수 있다. "
      ],
      "metadata": {
        "colab": {
          "base_uri": "https://localhost:8080/"
        },
        "id": "GAeJx2-v9dk2",
        "outputId": "b0c9b3cb-4345-4c08-e9cb-1422d81da47a"
      },
      "execution_count": 18,
      "outputs": [
        {
          "output_type": "execute_result",
          "data": {
            "text/plain": [
              "13.502044830977896"
            ]
          },
          "metadata": {},
          "execution_count": 18
        }
      ]
    },
    {
      "cell_type": "code",
      "source": [
        "#모비딕 소설의 단어 빈도를 작성해 보자.\n",
        "text1.vocab() "
      ],
      "metadata": {
        "colab": {
          "base_uri": "https://localhost:8080/"
        },
        "id": "NzkG1WfR9xbu",
        "outputId": "a85a8d2a-4f24-470c-abc2-8c943ed81f1f"
      },
      "execution_count": 19,
      "outputs": [
        {
          "output_type": "execute_result",
          "data": {
            "text/plain": [
              "FreqDist({',': 18713, 'the': 13721, '.': 6862, 'of': 6536, 'and': 6024, 'a': 4569, 'to': 4542, ';': 4072, 'in': 3916, 'that': 2982, ...})"
            ]
          },
          "metadata": {},
          "execution_count": 19
        }
      ]
    },
    {
      "cell_type": "code",
      "source": [
        "print(text1.vocab())#토큰의 갯수와 총 출현 횟수\n",
        "fd=FreqDist(text1.vocab()) #(이 코드 빠져있었음..! 오류나니까 추가하기)\n",
        "#각 토큰의 출현 횟수를 담은 FreqDist(frequency distribution)객체를 반환한다."
      ],
      "metadata": {
        "colab": {
          "base_uri": "https://localhost:8080/"
        },
        "id": "j2iJZEtn92-H",
        "outputId": "6708b80d-9853-4bfe-9c0c-61d8d53b03b2"
      },
      "execution_count": 23,
      "outputs": [
        {
          "output_type": "stream",
          "name": "stdout",
          "text": [
            "<FreqDist with 19317 samples and 260819 outcomes>\n"
          ]
        }
      ]
    },
    {
      "cell_type": "code",
      "source": [
        "print(fd) #위에서 fd객체에 넣어놓은 빈도수를 출력(text1.vocab()한거와 같은말이라서 의미없음(위에 코드랑 중복))"
      ],
      "metadata": {
        "colab": {
          "base_uri": "https://localhost:8080/"
        },
        "id": "K7-Od1kk-RDB",
        "outputId": "43c8c49c-de50-47bf-c477-b87f93ccac4f"
      },
      "execution_count": 24,
      "outputs": [
        {
          "output_type": "stream",
          "name": "stdout",
          "text": [
            "<FreqDist with 19317 samples and 260819 outcomes>\n"
          ]
        }
      ]
    },
    {
      "cell_type": "code",
      "source": [
        "fd.most_common(5) #가장 많이 나온 단어 5개 "
      ],
      "metadata": {
        "colab": {
          "base_uri": "https://localhost:8080/"
        },
        "id": "6BAIbVhp-GJv",
        "outputId": "f2eb4616-6ae8-46ca-e30c-9cde7f0c319b"
      },
      "execution_count": 25,
      "outputs": [
        {
          "output_type": "execute_result",
          "data": {
            "text/plain": [
              "[(',', 18713), ('the', 13721), ('.', 6862), ('of', 6536), ('and', 6024)]"
            ]
          },
          "metadata": {},
          "execution_count": 25
        }
      ]
    },
    {
      "cell_type": "code",
      "source": [
        "fd.most_common(10)"
      ],
      "metadata": {
        "colab": {
          "base_uri": "https://localhost:8080/"
        },
        "id": "tlIsnmJ--J8S",
        "outputId": "81ca9158-07bb-4413-fa19-e64467bb3197"
      },
      "execution_count": 26,
      "outputs": [
        {
          "output_type": "execute_result",
          "data": {
            "text/plain": [
              "[(',', 18713),\n",
              " ('the', 13721),\n",
              " ('.', 6862),\n",
              " ('of', 6536),\n",
              " ('and', 6024),\n",
              " ('a', 4569),\n",
              " ('to', 4542),\n",
              " (';', 4072),\n",
              " ('in', 3916),\n",
              " ('that', 2982)]"
            ]
          },
          "metadata": {},
          "execution_count": 26
        }
      ]
    },
    {
      "cell_type": "code",
      "source": [
        "print(fd.get('barbed')) #barbed라는 단어만 찾아서 가져옴. 총 몇개있는지 출력\n",
        "print(fd.get('sport'))"
      ],
      "metadata": {
        "colab": {
          "base_uri": "https://localhost:8080/"
        },
        "id": "9jm9fbkF_Ua8",
        "outputId": "fb97fc1a-4194-4323-a812-460d7fd09030"
      },
      "execution_count": 27,
      "outputs": [
        {
          "output_type": "stream",
          "name": "stdout",
          "text": [
            "6\n",
            "3\n"
          ]
        }
      ]
    },
    {
      "cell_type": "code",
      "source": [
        "text1.concordance('school') #단어가 사용된 위치를 직접 표시해서 문맥이 어떤지 볼 수 있음. 25개까지 원래 출력가능한데 여기선 사용된 부분이 10개밖에 없어서 10개 출력함."
      ],
      "metadata": {
        "colab": {
          "base_uri": "https://localhost:8080/"
        },
        "id": "RyzLHteO_eXo",
        "outputId": "a96b5b2c-1949-40eb-f678-5bf06b381365"
      },
      "execution_count": 28,
      "outputs": [
        {
          "output_type": "stream",
          "name": "stdout",
          "text": [
            "Displaying 10 of 10 matches:\n",
            "Late Consumptive Usher to a Grammar School ) The pale Usher -- threadbare in c\n",
            "ality . \" While you take in hand to school others , and to teach them by what \n",
            " Pequod . She was a ship of the old school , rather small if anything ; with a\n",
            "ee - beam , about two miles off ! a school of them !\" Instantly all was commot\n",
            "d . In cavalier attendance upon the school of females , you invariably see a m\n",
            "whales is called by the fishermen a school , so is the lord and master of that\n",
            ", so is the lord and master of that school technically known as the schoolmast\n",
            "bly satirical , that after going to school himself , he should then go abroad \n",
            " . But strike a member of the harem school , and her companions swim around he\n",
            "he Pharaoh ' s . Methuselah seems a school - boy . I look round to shake hands\n"
          ]
        }
      ]
    },
    {
      "cell_type": "code",
      "source": [
        "text1.similar('school') #같은 문맥에서 주어진 단어 대신 사용된 횟수가 높은 단어들을 찾는 기능, (school을 대신한 단어들)"
      ],
      "metadata": {
        "colab": {
          "base_uri": "https://localhost:8080/"
        },
        "id": "MW6DLPQ3_llC",
        "outputId": "3ddf930b-3569-4b4f-f6d7-7d0b892ba5c6"
      },
      "execution_count": 29,
      "outputs": [
        {
          "output_type": "stream",
          "name": "stdout",
          "text": [
            "man matter point cry sound whale roll day sea thing land king vessel\n",
            "way ship head voyage weight sort fire\n"
          ]
        }
      ]
    },
    {
      "cell_type": "code",
      "source": [
        "text1.common_contexts(['school','man']) #school, man 두 단어의 공통 문맥을 보는 기능"
      ],
      "metadata": {
        "colab": {
          "base_uri": "https://localhost:8080/"
        },
        "id": "VZ-Lkgrz_7qg",
        "outputId": "e8d6cc79-ff45-40e0-a2c4-1c79cf4c0332"
      },
      "execution_count": 30,
      "outputs": [
        {
          "output_type": "stream",
          "name": "stdout",
          "text": [
            "a_of the_of a_so\n"
          ]
        }
      ]
    }
  ]
}